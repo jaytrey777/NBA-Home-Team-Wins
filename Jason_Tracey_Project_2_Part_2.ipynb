{
  "nbformat": 4,
  "nbformat_minor": 0,
  "metadata": {
    "colab": {
      "provenance": [],
      "toc_visible": true,
      "mount_file_id": "17OkTcPfzga3F-lAm6EpoCT7lYzHNvXE8",
      "authorship_tag": "ABX9TyNg4K3KK+mXL+3Ct2RlDwNW",
      "include_colab_link": true
    },
    "kernelspec": {
      "name": "python3",
      "display_name": "Python 3"
    },
    "language_info": {
      "name": "python"
    }
  },
  "cells": [
    {
      "cell_type": "markdown",
      "metadata": {
        "id": "view-in-github",
        "colab_type": "text"
      },
      "source": [
        "<a href=\"https://colab.research.google.com/github/jaytrey777/Project-2-Part-1/blob/main/Jason_Tracey_Project_2_Part_2.ipynb\" target=\"_parent\"><img src=\"https://colab.research.google.com/assets/colab-badge.svg\" alt=\"Open In Colab\"/></a>"
      ]
    },
    {
      "cell_type": "markdown",
      "source": [
        "# Part 1: "
      ],
      "metadata": {
        "id": "ro7jTPSdZKPx"
      }
    },
    {
      "cell_type": "markdown",
      "source": [
        "Choose and describe 2 potential datasets for your second project.\n",
        "You will have a lot more freedom in your second project than in your first project. This is because we want you to have a project in your portfolio that interests you or relates to the industry you would like to work in.\n",
        "\n",
        "Your task for this week is to propose two possible datasets you would like to work with for Project 2 and indicate which is your first and which is your second choice.  \n",
        "\n",
        "You can choose datasets from either:\n",
        "\n",
        "1. This list of pre-approved datasets and complete the tasks listed below for both of them\n",
        "Pre-approved Datasets:\n",
        "Stroke Prediction Dataset\n",
        "Adult income dataset\n",
        "Car Insurance Data\n",
        "Metabolic Syndrome Prediction - dataset by informatics-edu\n",
        "Pump It Up Challenge: Driven Data\n",
        "Cirrhosis Prediction Dataset\n",
        "Spanish Wine Quality Dataset\n",
        "\n",
        "\n",
        "2. Other dataset(s) that align with an interest or field of expertise you already have.  \n",
        "\n",
        "If you choose to source your own data, please be sure it meets the below requirements:\n",
        "has a clear target or labels to predict\n",
        "has potential for interesting analysis\n",
        "the data must be available for use (it is your responsibility to ensure that the license states that you are able to use it.)\n",
        "the data must be appropriate for a professional environment\n",
        "the data must not contain personal information\n",
        "the data must not be a dataset used for any assignment, lecture, or task from the course\n",
        "the data must not be a time series dataset. You will be able to identify these because each row will represent a moment or interval of time. These kinds of datasets follow special rules and are not appropriate for the kind of machine learning you have learned in this stack.\n",
        "is reasonable to work with during the time you have\n",
        "A great dataset would also have:\n",
        "\n",
        "8-25 columns (features)\n",
        "1000 - 100,000 rows (instances)\n",
        "both numeric and categorical features\n",
        "At least some missing features in both categorical and numeric columns, so you can show off your data-cleaning skills!\n",
        "Here are some resources to help you find great datasets:\n",
        "\n",
        "The 50 Best Free Datasets for Machine Learning\n",
        "21 Places to Find Free Datasets for Data Science Projects\n",
        "Best Public Datasets for Machine Learning and Data Science\n",
        "Top 20+ Datasets for Machine Learning and Statistics Projects\n",
        "70+ Machine Learning Datasets & Project Ideas\n",
        "DataRobot Pathfinder\n",
        "You may choose a regression or classification problem for each proposed data set, but you might consider a classification project since you already have a regression project in your portfolio.  This way you can show your skills with both!\n",
        "\n",
        "If you choose 2 datasets from outside of the pre-approved list, at least one of the datasets you choose must be approved by the instructor before you can use it for your project.\n",
        "\n",
        "For this Task:\n",
        "Whether you chose 2 pre-approved datasets or 2 datasets from another source, or one of each:\n",
        "\n",
        "Create a notebook where you have uploaded and shown the .head() of each of your data sets. For each of the proposed datasets, include the following information in text cells:\n",
        "\n",
        "First choice: dataset 1\n",
        "1. Source of data\n",
        "\n",
        "2. Brief description of data\n",
        "\n",
        "3. What is the target?\n",
        "\n",
        "4. What does one row represent? (A person?  A business?  An event? A product?)\n",
        "\n",
        "5. Is this a classification or regression problem?\n",
        "\n",
        "6. How many features does the data have?\n",
        "\n",
        "7. How many rows are in the dataset?\n",
        "\n",
        "8. What, if any, challenges do you foresee in cleaning, exploring, or modeling this dataset?\n",
        "\n",
        "Second choice: dataset 2\n",
        "1. Source of data\n",
        "\n",
        "2. Brief description of data\n",
        "\n",
        "3. What is the target?\n",
        "\n",
        "4. What does one row represent? (A person?  A business?  An event? A product?)\n",
        "\n",
        "5. Is this a classification or regression problem?\n",
        "\n",
        "6. How many features does the data have?\n",
        "\n",
        "7. How many rows are in the dataset?\n",
        "\n",
        "8. What, if any, challenges do you foresee in cleaning, exploring, or modeling this dataset?\n",
        "\n",
        "Create a NEW GitHub repository for this project, with a readme, and add your notebook to that new repository.  Submit the link below."
      ],
      "metadata": {
        "id": "wkQGIoUNZCr_"
      }
    },
    {
      "cell_type": "markdown",
      "source": [
        "## Drive Mountng & Imports"
      ],
      "metadata": {
        "id": "7rLSp3SvZ0wb"
      }
    },
    {
      "cell_type": "code",
      "execution_count": 1,
      "metadata": {
        "colab": {
          "base_uri": "https://localhost:8080/"
        },
        "id": "MgtWDyi0Y06H",
        "outputId": "364c08e6-b36e-4745-d476-60c8b59467eb"
      },
      "outputs": [
        {
          "output_type": "stream",
          "name": "stdout",
          "text": [
            "Drive already mounted at /content/drive; to attempt to forcibly remount, call drive.mount(\"/content/drive\", force_remount=True).\n"
          ]
        }
      ],
      "source": [
        "from google.colab import drive\n",
        "drive.mount('/content/drive')"
      ]
    },
    {
      "cell_type": "code",
      "source": [
        "import pandas as pd\n",
        "import seaborn as sns\n",
        "import matplotlib.pyplot as plt\n",
        "\n",
        "import warnings\n",
        "warnings.filterwarnings('ignore')"
      ],
      "metadata": {
        "id": "DUf8hKDfZ6Sx"
      },
      "execution_count": 2,
      "outputs": []
    },
    {
      "cell_type": "markdown",
      "source": [
        "##1st Data Set"
      ],
      "metadata": {
        "id": "fXTV33j4-7cu"
      }
    },
    {
      "cell_type": "markdown",
      "source": [
        "### Data Loading"
      ],
      "metadata": {
        "id": "bJgSoUtizFs7"
      }
    },
    {
      "cell_type": "code",
      "source": [
        "filename = '/content/drive/MyDrive/Colab Notebooks/02. Weeks 5-8: Machine Learning/07 Week 7: Classification/5. Core Assignments/nbagames.csv'\n",
        "df = pd.read_csv(filename)\n",
        "df.head()"
      ],
      "metadata": {
        "colab": {
          "base_uri": "https://localhost:8080/",
          "height": 300
        },
        "id": "kyDF3znbZ3kS",
        "outputId": "6c9f306c-eb32-4fd8-b645-3464fb9b19e7"
      },
      "execution_count": 3,
      "outputs": [
        {
          "output_type": "execute_result",
          "data": {
            "text/plain": [
              "  GAME_DATE_EST   GAME_ID GAME_STATUS_TEXT  HOME_TEAM_ID  VISITOR_TEAM_ID  \\\n",
              "0    2022-12-22  22200477            Final    1610612740       1610612759   \n",
              "1    2022-12-22  22200478            Final    1610612762       1610612764   \n",
              "2    2022-12-21  22200466            Final    1610612739       1610612749   \n",
              "3    2022-12-21  22200467            Final    1610612755       1610612765   \n",
              "4    2022-12-21  22200468            Final    1610612737       1610612741   \n",
              "\n",
              "   SEASON  TEAM_ID_home  PTS_home  FG_PCT_home  FT_PCT_home  ...  AST_home  \\\n",
              "0    2022    1610612740     126.0        0.484        0.926  ...      25.0   \n",
              "1    2022    1610612762     120.0        0.488        0.952  ...      16.0   \n",
              "2    2022    1610612739     114.0        0.482        0.786  ...      22.0   \n",
              "3    2022    1610612755     113.0        0.441        0.909  ...      27.0   \n",
              "4    2022    1610612737     108.0        0.429        1.000  ...      22.0   \n",
              "\n",
              "   REB_home  TEAM_ID_away  PTS_away  FG_PCT_away  FT_PCT_away  FG3_PCT_away  \\\n",
              "0      46.0    1610612759     117.0        0.478        0.815         0.321   \n",
              "1      40.0    1610612764     112.0        0.561        0.765         0.333   \n",
              "2      37.0    1610612749     106.0        0.470        0.682         0.433   \n",
              "3      49.0    1610612765      93.0        0.392        0.735         0.261   \n",
              "4      47.0    1610612741     110.0        0.500        0.773         0.292   \n",
              "\n",
              "   AST_away  REB_away  HOME_TEAM_WINS  \n",
              "0      23.0      44.0               1  \n",
              "1      20.0      37.0               1  \n",
              "2      20.0      46.0               1  \n",
              "3      15.0      46.0               1  \n",
              "4      20.0      47.0               0  \n",
              "\n",
              "[5 rows x 21 columns]"
            ],
            "text/html": [
              "\n",
              "  <div id=\"df-7531b564-cc1e-42ac-849e-c8c9532f1dc4\">\n",
              "    <div class=\"colab-df-container\">\n",
              "      <div>\n",
              "<style scoped>\n",
              "    .dataframe tbody tr th:only-of-type {\n",
              "        vertical-align: middle;\n",
              "    }\n",
              "\n",
              "    .dataframe tbody tr th {\n",
              "        vertical-align: top;\n",
              "    }\n",
              "\n",
              "    .dataframe thead th {\n",
              "        text-align: right;\n",
              "    }\n",
              "</style>\n",
              "<table border=\"1\" class=\"dataframe\">\n",
              "  <thead>\n",
              "    <tr style=\"text-align: right;\">\n",
              "      <th></th>\n",
              "      <th>GAME_DATE_EST</th>\n",
              "      <th>GAME_ID</th>\n",
              "      <th>GAME_STATUS_TEXT</th>\n",
              "      <th>HOME_TEAM_ID</th>\n",
              "      <th>VISITOR_TEAM_ID</th>\n",
              "      <th>SEASON</th>\n",
              "      <th>TEAM_ID_home</th>\n",
              "      <th>PTS_home</th>\n",
              "      <th>FG_PCT_home</th>\n",
              "      <th>FT_PCT_home</th>\n",
              "      <th>...</th>\n",
              "      <th>AST_home</th>\n",
              "      <th>REB_home</th>\n",
              "      <th>TEAM_ID_away</th>\n",
              "      <th>PTS_away</th>\n",
              "      <th>FG_PCT_away</th>\n",
              "      <th>FT_PCT_away</th>\n",
              "      <th>FG3_PCT_away</th>\n",
              "      <th>AST_away</th>\n",
              "      <th>REB_away</th>\n",
              "      <th>HOME_TEAM_WINS</th>\n",
              "    </tr>\n",
              "  </thead>\n",
              "  <tbody>\n",
              "    <tr>\n",
              "      <th>0</th>\n",
              "      <td>2022-12-22</td>\n",
              "      <td>22200477</td>\n",
              "      <td>Final</td>\n",
              "      <td>1610612740</td>\n",
              "      <td>1610612759</td>\n",
              "      <td>2022</td>\n",
              "      <td>1610612740</td>\n",
              "      <td>126.0</td>\n",
              "      <td>0.484</td>\n",
              "      <td>0.926</td>\n",
              "      <td>...</td>\n",
              "      <td>25.0</td>\n",
              "      <td>46.0</td>\n",
              "      <td>1610612759</td>\n",
              "      <td>117.0</td>\n",
              "      <td>0.478</td>\n",
              "      <td>0.815</td>\n",
              "      <td>0.321</td>\n",
              "      <td>23.0</td>\n",
              "      <td>44.0</td>\n",
              "      <td>1</td>\n",
              "    </tr>\n",
              "    <tr>\n",
              "      <th>1</th>\n",
              "      <td>2022-12-22</td>\n",
              "      <td>22200478</td>\n",
              "      <td>Final</td>\n",
              "      <td>1610612762</td>\n",
              "      <td>1610612764</td>\n",
              "      <td>2022</td>\n",
              "      <td>1610612762</td>\n",
              "      <td>120.0</td>\n",
              "      <td>0.488</td>\n",
              "      <td>0.952</td>\n",
              "      <td>...</td>\n",
              "      <td>16.0</td>\n",
              "      <td>40.0</td>\n",
              "      <td>1610612764</td>\n",
              "      <td>112.0</td>\n",
              "      <td>0.561</td>\n",
              "      <td>0.765</td>\n",
              "      <td>0.333</td>\n",
              "      <td>20.0</td>\n",
              "      <td>37.0</td>\n",
              "      <td>1</td>\n",
              "    </tr>\n",
              "    <tr>\n",
              "      <th>2</th>\n",
              "      <td>2022-12-21</td>\n",
              "      <td>22200466</td>\n",
              "      <td>Final</td>\n",
              "      <td>1610612739</td>\n",
              "      <td>1610612749</td>\n",
              "      <td>2022</td>\n",
              "      <td>1610612739</td>\n",
              "      <td>114.0</td>\n",
              "      <td>0.482</td>\n",
              "      <td>0.786</td>\n",
              "      <td>...</td>\n",
              "      <td>22.0</td>\n",
              "      <td>37.0</td>\n",
              "      <td>1610612749</td>\n",
              "      <td>106.0</td>\n",
              "      <td>0.470</td>\n",
              "      <td>0.682</td>\n",
              "      <td>0.433</td>\n",
              "      <td>20.0</td>\n",
              "      <td>46.0</td>\n",
              "      <td>1</td>\n",
              "    </tr>\n",
              "    <tr>\n",
              "      <th>3</th>\n",
              "      <td>2022-12-21</td>\n",
              "      <td>22200467</td>\n",
              "      <td>Final</td>\n",
              "      <td>1610612755</td>\n",
              "      <td>1610612765</td>\n",
              "      <td>2022</td>\n",
              "      <td>1610612755</td>\n",
              "      <td>113.0</td>\n",
              "      <td>0.441</td>\n",
              "      <td>0.909</td>\n",
              "      <td>...</td>\n",
              "      <td>27.0</td>\n",
              "      <td>49.0</td>\n",
              "      <td>1610612765</td>\n",
              "      <td>93.0</td>\n",
              "      <td>0.392</td>\n",
              "      <td>0.735</td>\n",
              "      <td>0.261</td>\n",
              "      <td>15.0</td>\n",
              "      <td>46.0</td>\n",
              "      <td>1</td>\n",
              "    </tr>\n",
              "    <tr>\n",
              "      <th>4</th>\n",
              "      <td>2022-12-21</td>\n",
              "      <td>22200468</td>\n",
              "      <td>Final</td>\n",
              "      <td>1610612737</td>\n",
              "      <td>1610612741</td>\n",
              "      <td>2022</td>\n",
              "      <td>1610612737</td>\n",
              "      <td>108.0</td>\n",
              "      <td>0.429</td>\n",
              "      <td>1.000</td>\n",
              "      <td>...</td>\n",
              "      <td>22.0</td>\n",
              "      <td>47.0</td>\n",
              "      <td>1610612741</td>\n",
              "      <td>110.0</td>\n",
              "      <td>0.500</td>\n",
              "      <td>0.773</td>\n",
              "      <td>0.292</td>\n",
              "      <td>20.0</td>\n",
              "      <td>47.0</td>\n",
              "      <td>0</td>\n",
              "    </tr>\n",
              "  </tbody>\n",
              "</table>\n",
              "<p>5 rows × 21 columns</p>\n",
              "</div>\n",
              "      <button class=\"colab-df-convert\" onclick=\"convertToInteractive('df-7531b564-cc1e-42ac-849e-c8c9532f1dc4')\"\n",
              "              title=\"Convert this dataframe to an interactive table.\"\n",
              "              style=\"display:none;\">\n",
              "        \n",
              "  <svg xmlns=\"http://www.w3.org/2000/svg\" height=\"24px\"viewBox=\"0 0 24 24\"\n",
              "       width=\"24px\">\n",
              "    <path d=\"M0 0h24v24H0V0z\" fill=\"none\"/>\n",
              "    <path d=\"M18.56 5.44l.94 2.06.94-2.06 2.06-.94-2.06-.94-.94-2.06-.94 2.06-2.06.94zm-11 1L8.5 8.5l.94-2.06 2.06-.94-2.06-.94L8.5 2.5l-.94 2.06-2.06.94zm10 10l.94 2.06.94-2.06 2.06-.94-2.06-.94-.94-2.06-.94 2.06-2.06.94z\"/><path d=\"M17.41 7.96l-1.37-1.37c-.4-.4-.92-.59-1.43-.59-.52 0-1.04.2-1.43.59L10.3 9.45l-7.72 7.72c-.78.78-.78 2.05 0 2.83L4 21.41c.39.39.9.59 1.41.59.51 0 1.02-.2 1.41-.59l7.78-7.78 2.81-2.81c.8-.78.8-2.07 0-2.86zM5.41 20L4 18.59l7.72-7.72 1.47 1.35L5.41 20z\"/>\n",
              "  </svg>\n",
              "      </button>\n",
              "      \n",
              "  <style>\n",
              "    .colab-df-container {\n",
              "      display:flex;\n",
              "      flex-wrap:wrap;\n",
              "      gap: 12px;\n",
              "    }\n",
              "\n",
              "    .colab-df-convert {\n",
              "      background-color: #E8F0FE;\n",
              "      border: none;\n",
              "      border-radius: 50%;\n",
              "      cursor: pointer;\n",
              "      display: none;\n",
              "      fill: #1967D2;\n",
              "      height: 32px;\n",
              "      padding: 0 0 0 0;\n",
              "      width: 32px;\n",
              "    }\n",
              "\n",
              "    .colab-df-convert:hover {\n",
              "      background-color: #E2EBFA;\n",
              "      box-shadow: 0px 1px 2px rgba(60, 64, 67, 0.3), 0px 1px 3px 1px rgba(60, 64, 67, 0.15);\n",
              "      fill: #174EA6;\n",
              "    }\n",
              "\n",
              "    [theme=dark] .colab-df-convert {\n",
              "      background-color: #3B4455;\n",
              "      fill: #D2E3FC;\n",
              "    }\n",
              "\n",
              "    [theme=dark] .colab-df-convert:hover {\n",
              "      background-color: #434B5C;\n",
              "      box-shadow: 0px 1px 3px 1px rgba(0, 0, 0, 0.15);\n",
              "      filter: drop-shadow(0px 1px 2px rgba(0, 0, 0, 0.3));\n",
              "      fill: #FFFFFF;\n",
              "    }\n",
              "  </style>\n",
              "\n",
              "      <script>\n",
              "        const buttonEl =\n",
              "          document.querySelector('#df-7531b564-cc1e-42ac-849e-c8c9532f1dc4 button.colab-df-convert');\n",
              "        buttonEl.style.display =\n",
              "          google.colab.kernel.accessAllowed ? 'block' : 'none';\n",
              "\n",
              "        async function convertToInteractive(key) {\n",
              "          const element = document.querySelector('#df-7531b564-cc1e-42ac-849e-c8c9532f1dc4');\n",
              "          const dataTable =\n",
              "            await google.colab.kernel.invokeFunction('convertToInteractive',\n",
              "                                                     [key], {});\n",
              "          if (!dataTable) return;\n",
              "\n",
              "          const docLinkHtml = 'Like what you see? Visit the ' +\n",
              "            '<a target=\"_blank\" href=https://colab.research.google.com/notebooks/data_table.ipynb>data table notebook</a>'\n",
              "            + ' to learn more about interactive tables.';\n",
              "          element.innerHTML = '';\n",
              "          dataTable['output_type'] = 'display_data';\n",
              "          await google.colab.output.renderOutput(dataTable, element);\n",
              "          const docLink = document.createElement('div');\n",
              "          docLink.innerHTML = docLinkHtml;\n",
              "          element.appendChild(docLink);\n",
              "        }\n",
              "      </script>\n",
              "    </div>\n",
              "  </div>\n",
              "  "
            ]
          },
          "metadata": {},
          "execution_count": 3
        }
      ]
    },
    {
      "cell_type": "code",
      "source": [
        "df.info()"
      ],
      "metadata": {
        "colab": {
          "base_uri": "https://localhost:8080/"
        },
        "id": "6S5xQLjVdPZj",
        "outputId": "58628e6a-e443-48bc-cd69-4b9f7e8e85ec"
      },
      "execution_count": 4,
      "outputs": [
        {
          "output_type": "stream",
          "name": "stdout",
          "text": [
            "<class 'pandas.core.frame.DataFrame'>\n",
            "RangeIndex: 26651 entries, 0 to 26650\n",
            "Data columns (total 21 columns):\n",
            " #   Column            Non-Null Count  Dtype  \n",
            "---  ------            --------------  -----  \n",
            " 0   GAME_DATE_EST     26651 non-null  object \n",
            " 1   GAME_ID           26651 non-null  int64  \n",
            " 2   GAME_STATUS_TEXT  26651 non-null  object \n",
            " 3   HOME_TEAM_ID      26651 non-null  int64  \n",
            " 4   VISITOR_TEAM_ID   26651 non-null  int64  \n",
            " 5   SEASON            26651 non-null  int64  \n",
            " 6   TEAM_ID_home      26651 non-null  int64  \n",
            " 7   PTS_home          26552 non-null  float64\n",
            " 8   FG_PCT_home       26552 non-null  float64\n",
            " 9   FT_PCT_home       26552 non-null  float64\n",
            " 10  FG3_PCT_home      26552 non-null  float64\n",
            " 11  AST_home          26552 non-null  float64\n",
            " 12  REB_home          26552 non-null  float64\n",
            " 13  TEAM_ID_away      26651 non-null  int64  \n",
            " 14  PTS_away          26552 non-null  float64\n",
            " 15  FG_PCT_away       26552 non-null  float64\n",
            " 16  FT_PCT_away       26552 non-null  float64\n",
            " 17  FG3_PCT_away      26552 non-null  float64\n",
            " 18  AST_away          26552 non-null  float64\n",
            " 19  REB_away          26552 non-null  float64\n",
            " 20  HOME_TEAM_WINS    26651 non-null  int64  \n",
            "dtypes: float64(12), int64(7), object(2)\n",
            "memory usage: 4.3+ MB\n"
          ]
        }
      ]
    },
    {
      "cell_type": "markdown",
      "source": [
        "### Analysis"
      ],
      "metadata": {
        "id": "XZkXxWPYzBHZ"
      }
    },
    {
      "cell_type": "markdown",
      "source": [
        "1. [Source of data](https://www.kaggle.com/datasets/nathanlauga/nba-games?resource=download&select=games.csv) \n",
        "\n",
        "2. Brief description of data\n",
        "  - This dataset was collected to work on NBA games data. Uses nba stats website to create this dataset.\n",
        "\n",
        "  - There are 5 datasets :\n",
        "\n",
        "    - games.csv : all games from 2004 season to last update with the date, teams and some details like number of points, etc.\n",
        "    - games_details.csv : details of games dataset, all statistics of players for a given game\n",
        "    - players.csv : players details (name)\n",
        "    - ranking.csv : ranking of NBA given a day (split into west and east on CONFERENCE column\n",
        "    - teams.csv : all teams of NBA\n",
        "\n",
        "3. What is the target?\n",
        "  - Did the home team win or lose?\n",
        "\n",
        "4. What does one row represent? \n",
        "  - One row represents the team playing that night.\n",
        "\n",
        "5. Is this a classification or regression problem?\n",
        "  - This is a classification problem.\n",
        "\n",
        "6. How many features does the data have?\n",
        "  - There are 20 features.\n",
        "\n",
        "7. How many rows are in the dataset?\n",
        "  - There are 26651 rows.\n",
        "\n",
        "8. What, if any, challenges do you foresee in cleaning, exploring, or modeling this dataset?\n",
        "  - The amount of data will make it challenging.  The cleaning should be pretty straight forward. "
      ],
      "metadata": {
        "id": "rC1SldW3afEL"
      }
    },
    {
      "cell_type": "markdown",
      "source": [
        "## 2nd Data Set"
      ],
      "metadata": {
        "id": "uv7gKY3_-_SS"
      }
    },
    {
      "cell_type": "markdown",
      "source": [
        "### Data Loading"
      ],
      "metadata": {
        "id": "2ng8xzE-zLRn"
      }
    },
    {
      "cell_type": "code",
      "source": [
        "filename = '/content/drive/MyDrive/Colab Notebooks/02. Weeks 5-8: Machine Learning/07 Week 7: Classification/5. Core Assignments/adult income dataset.csv'\n",
        "df2 = pd.read_csv(filename)\n",
        "df2.head()"
      ],
      "metadata": {
        "colab": {
          "base_uri": "https://localhost:8080/",
          "height": 372
        },
        "id": "TOroBHiTaVs8",
        "outputId": "9afed85a-6d41-4624-e7c1-c32242c95f86"
      },
      "execution_count": 5,
      "outputs": [
        {
          "output_type": "execute_result",
          "data": {
            "text/plain": [
              "   age  workclass  fnlwgt     education  educational-num      marital-status  \\\n",
              "0   25    Private  226802          11th                7       Never-married   \n",
              "1   38    Private   89814       HS-grad                9  Married-civ-spouse   \n",
              "2   28  Local-gov  336951    Assoc-acdm               12  Married-civ-spouse   \n",
              "3   44    Private  160323  Some-college               10  Married-civ-spouse   \n",
              "4   18          ?  103497  Some-college               10       Never-married   \n",
              "\n",
              "          occupation relationship   race  gender  capital-gain  capital-loss  \\\n",
              "0  Machine-op-inspct    Own-child  Black    Male             0             0   \n",
              "1    Farming-fishing      Husband  White    Male             0             0   \n",
              "2    Protective-serv      Husband  White    Male             0             0   \n",
              "3  Machine-op-inspct      Husband  Black    Male          7688             0   \n",
              "4                  ?    Own-child  White  Female             0             0   \n",
              "\n",
              "   hours-per-week native-country income  \n",
              "0              40  United-States  <=50K  \n",
              "1              50  United-States  <=50K  \n",
              "2              40  United-States   >50K  \n",
              "3              40  United-States   >50K  \n",
              "4              30  United-States  <=50K  "
            ],
            "text/html": [
              "\n",
              "  <div id=\"df-91caf257-ac0b-4221-92ca-e8720549d08c\">\n",
              "    <div class=\"colab-df-container\">\n",
              "      <div>\n",
              "<style scoped>\n",
              "    .dataframe tbody tr th:only-of-type {\n",
              "        vertical-align: middle;\n",
              "    }\n",
              "\n",
              "    .dataframe tbody tr th {\n",
              "        vertical-align: top;\n",
              "    }\n",
              "\n",
              "    .dataframe thead th {\n",
              "        text-align: right;\n",
              "    }\n",
              "</style>\n",
              "<table border=\"1\" class=\"dataframe\">\n",
              "  <thead>\n",
              "    <tr style=\"text-align: right;\">\n",
              "      <th></th>\n",
              "      <th>age</th>\n",
              "      <th>workclass</th>\n",
              "      <th>fnlwgt</th>\n",
              "      <th>education</th>\n",
              "      <th>educational-num</th>\n",
              "      <th>marital-status</th>\n",
              "      <th>occupation</th>\n",
              "      <th>relationship</th>\n",
              "      <th>race</th>\n",
              "      <th>gender</th>\n",
              "      <th>capital-gain</th>\n",
              "      <th>capital-loss</th>\n",
              "      <th>hours-per-week</th>\n",
              "      <th>native-country</th>\n",
              "      <th>income</th>\n",
              "    </tr>\n",
              "  </thead>\n",
              "  <tbody>\n",
              "    <tr>\n",
              "      <th>0</th>\n",
              "      <td>25</td>\n",
              "      <td>Private</td>\n",
              "      <td>226802</td>\n",
              "      <td>11th</td>\n",
              "      <td>7</td>\n",
              "      <td>Never-married</td>\n",
              "      <td>Machine-op-inspct</td>\n",
              "      <td>Own-child</td>\n",
              "      <td>Black</td>\n",
              "      <td>Male</td>\n",
              "      <td>0</td>\n",
              "      <td>0</td>\n",
              "      <td>40</td>\n",
              "      <td>United-States</td>\n",
              "      <td>&lt;=50K</td>\n",
              "    </tr>\n",
              "    <tr>\n",
              "      <th>1</th>\n",
              "      <td>38</td>\n",
              "      <td>Private</td>\n",
              "      <td>89814</td>\n",
              "      <td>HS-grad</td>\n",
              "      <td>9</td>\n",
              "      <td>Married-civ-spouse</td>\n",
              "      <td>Farming-fishing</td>\n",
              "      <td>Husband</td>\n",
              "      <td>White</td>\n",
              "      <td>Male</td>\n",
              "      <td>0</td>\n",
              "      <td>0</td>\n",
              "      <td>50</td>\n",
              "      <td>United-States</td>\n",
              "      <td>&lt;=50K</td>\n",
              "    </tr>\n",
              "    <tr>\n",
              "      <th>2</th>\n",
              "      <td>28</td>\n",
              "      <td>Local-gov</td>\n",
              "      <td>336951</td>\n",
              "      <td>Assoc-acdm</td>\n",
              "      <td>12</td>\n",
              "      <td>Married-civ-spouse</td>\n",
              "      <td>Protective-serv</td>\n",
              "      <td>Husband</td>\n",
              "      <td>White</td>\n",
              "      <td>Male</td>\n",
              "      <td>0</td>\n",
              "      <td>0</td>\n",
              "      <td>40</td>\n",
              "      <td>United-States</td>\n",
              "      <td>&gt;50K</td>\n",
              "    </tr>\n",
              "    <tr>\n",
              "      <th>3</th>\n",
              "      <td>44</td>\n",
              "      <td>Private</td>\n",
              "      <td>160323</td>\n",
              "      <td>Some-college</td>\n",
              "      <td>10</td>\n",
              "      <td>Married-civ-spouse</td>\n",
              "      <td>Machine-op-inspct</td>\n",
              "      <td>Husband</td>\n",
              "      <td>Black</td>\n",
              "      <td>Male</td>\n",
              "      <td>7688</td>\n",
              "      <td>0</td>\n",
              "      <td>40</td>\n",
              "      <td>United-States</td>\n",
              "      <td>&gt;50K</td>\n",
              "    </tr>\n",
              "    <tr>\n",
              "      <th>4</th>\n",
              "      <td>18</td>\n",
              "      <td>?</td>\n",
              "      <td>103497</td>\n",
              "      <td>Some-college</td>\n",
              "      <td>10</td>\n",
              "      <td>Never-married</td>\n",
              "      <td>?</td>\n",
              "      <td>Own-child</td>\n",
              "      <td>White</td>\n",
              "      <td>Female</td>\n",
              "      <td>0</td>\n",
              "      <td>0</td>\n",
              "      <td>30</td>\n",
              "      <td>United-States</td>\n",
              "      <td>&lt;=50K</td>\n",
              "    </tr>\n",
              "  </tbody>\n",
              "</table>\n",
              "</div>\n",
              "      <button class=\"colab-df-convert\" onclick=\"convertToInteractive('df-91caf257-ac0b-4221-92ca-e8720549d08c')\"\n",
              "              title=\"Convert this dataframe to an interactive table.\"\n",
              "              style=\"display:none;\">\n",
              "        \n",
              "  <svg xmlns=\"http://www.w3.org/2000/svg\" height=\"24px\"viewBox=\"0 0 24 24\"\n",
              "       width=\"24px\">\n",
              "    <path d=\"M0 0h24v24H0V0z\" fill=\"none\"/>\n",
              "    <path d=\"M18.56 5.44l.94 2.06.94-2.06 2.06-.94-2.06-.94-.94-2.06-.94 2.06-2.06.94zm-11 1L8.5 8.5l.94-2.06 2.06-.94-2.06-.94L8.5 2.5l-.94 2.06-2.06.94zm10 10l.94 2.06.94-2.06 2.06-.94-2.06-.94-.94-2.06-.94 2.06-2.06.94z\"/><path d=\"M17.41 7.96l-1.37-1.37c-.4-.4-.92-.59-1.43-.59-.52 0-1.04.2-1.43.59L10.3 9.45l-7.72 7.72c-.78.78-.78 2.05 0 2.83L4 21.41c.39.39.9.59 1.41.59.51 0 1.02-.2 1.41-.59l7.78-7.78 2.81-2.81c.8-.78.8-2.07 0-2.86zM5.41 20L4 18.59l7.72-7.72 1.47 1.35L5.41 20z\"/>\n",
              "  </svg>\n",
              "      </button>\n",
              "      \n",
              "  <style>\n",
              "    .colab-df-container {\n",
              "      display:flex;\n",
              "      flex-wrap:wrap;\n",
              "      gap: 12px;\n",
              "    }\n",
              "\n",
              "    .colab-df-convert {\n",
              "      background-color: #E8F0FE;\n",
              "      border: none;\n",
              "      border-radius: 50%;\n",
              "      cursor: pointer;\n",
              "      display: none;\n",
              "      fill: #1967D2;\n",
              "      height: 32px;\n",
              "      padding: 0 0 0 0;\n",
              "      width: 32px;\n",
              "    }\n",
              "\n",
              "    .colab-df-convert:hover {\n",
              "      background-color: #E2EBFA;\n",
              "      box-shadow: 0px 1px 2px rgba(60, 64, 67, 0.3), 0px 1px 3px 1px rgba(60, 64, 67, 0.15);\n",
              "      fill: #174EA6;\n",
              "    }\n",
              "\n",
              "    [theme=dark] .colab-df-convert {\n",
              "      background-color: #3B4455;\n",
              "      fill: #D2E3FC;\n",
              "    }\n",
              "\n",
              "    [theme=dark] .colab-df-convert:hover {\n",
              "      background-color: #434B5C;\n",
              "      box-shadow: 0px 1px 3px 1px rgba(0, 0, 0, 0.15);\n",
              "      filter: drop-shadow(0px 1px 2px rgba(0, 0, 0, 0.3));\n",
              "      fill: #FFFFFF;\n",
              "    }\n",
              "  </style>\n",
              "\n",
              "      <script>\n",
              "        const buttonEl =\n",
              "          document.querySelector('#df-91caf257-ac0b-4221-92ca-e8720549d08c button.colab-df-convert');\n",
              "        buttonEl.style.display =\n",
              "          google.colab.kernel.accessAllowed ? 'block' : 'none';\n",
              "\n",
              "        async function convertToInteractive(key) {\n",
              "          const element = document.querySelector('#df-91caf257-ac0b-4221-92ca-e8720549d08c');\n",
              "          const dataTable =\n",
              "            await google.colab.kernel.invokeFunction('convertToInteractive',\n",
              "                                                     [key], {});\n",
              "          if (!dataTable) return;\n",
              "\n",
              "          const docLinkHtml = 'Like what you see? Visit the ' +\n",
              "            '<a target=\"_blank\" href=https://colab.research.google.com/notebooks/data_table.ipynb>data table notebook</a>'\n",
              "            + ' to learn more about interactive tables.';\n",
              "          element.innerHTML = '';\n",
              "          dataTable['output_type'] = 'display_data';\n",
              "          await google.colab.output.renderOutput(dataTable, element);\n",
              "          const docLink = document.createElement('div');\n",
              "          docLink.innerHTML = docLinkHtml;\n",
              "          element.appendChild(docLink);\n",
              "        }\n",
              "      </script>\n",
              "    </div>\n",
              "  </div>\n",
              "  "
            ]
          },
          "metadata": {},
          "execution_count": 5
        }
      ]
    },
    {
      "cell_type": "code",
      "source": [
        "df2.info()"
      ],
      "metadata": {
        "colab": {
          "base_uri": "https://localhost:8080/"
        },
        "id": "rMLcjLd0AOH1",
        "outputId": "ce3ba4d3-b45f-477c-e44c-8231d8bdaebf"
      },
      "execution_count": 6,
      "outputs": [
        {
          "output_type": "stream",
          "name": "stdout",
          "text": [
            "<class 'pandas.core.frame.DataFrame'>\n",
            "RangeIndex: 48842 entries, 0 to 48841\n",
            "Data columns (total 15 columns):\n",
            " #   Column           Non-Null Count  Dtype \n",
            "---  ------           --------------  ----- \n",
            " 0   age              48842 non-null  int64 \n",
            " 1   workclass        48842 non-null  object\n",
            " 2   fnlwgt           48842 non-null  int64 \n",
            " 3   education        48842 non-null  object\n",
            " 4   educational-num  48842 non-null  int64 \n",
            " 5   marital-status   48842 non-null  object\n",
            " 6   occupation       48842 non-null  object\n",
            " 7   relationship     48842 non-null  object\n",
            " 8   race             48842 non-null  object\n",
            " 9   gender           48842 non-null  object\n",
            " 10  capital-gain     48842 non-null  int64 \n",
            " 11  capital-loss     48842 non-null  int64 \n",
            " 12  hours-per-week   48842 non-null  int64 \n",
            " 13  native-country   48842 non-null  object\n",
            " 14  income           48842 non-null  object\n",
            "dtypes: int64(6), object(9)\n",
            "memory usage: 5.6+ MB\n"
          ]
        }
      ]
    },
    {
      "cell_type": "markdown",
      "source": [
        "### Analysis"
      ],
      "metadata": {
        "id": "WF9paa_qzNIF"
      }
    },
    {
      "cell_type": "markdown",
      "source": [
        "[Source of data](https://www.kaggle.com/datasets/wenruliu/adult-income-dataset)\n",
        "\n",
        "2. Brief description of data\n",
        "  - An individual’s annual income results from various factors. Intuitively, it is influenced by the individual’s education level, age, gender, occupation, and etc.\n",
        "\n",
        "  - This is a widely cited KNN dataset. \n",
        "\n",
        "3. What is the target?\n",
        "  - Is the income above $50k?\n",
        "\n",
        "4. What does one row represent? \n",
        "  - One row represents the team playing that night.\n",
        "\n",
        "5. Is this a classification or regression problem?\n",
        "  - This is a classification problem.\n",
        "\n",
        "6. How many features does the data have?\n",
        "  - There are 14 features.\n",
        "\n",
        "7. How many rows are in the dataset?\n",
        "  - There are 48842 rows.\n",
        "\n",
        "8. What, if any, challenges do you foresee in cleaning, exploring, or modeling this dataset?\n",
        "  - There are a fair amount of object rows so they will need to be analyzed to determine the best way to interpret that data."
      ],
      "metadata": {
        "id": "Jewd2DSQAX89"
      }
    },
    {
      "cell_type": "markdown",
      "source": [
        "# Part 2:"
      ],
      "metadata": {
        "id": "RX908tX9yjCa"
      }
    },
    {
      "cell_type": "markdown",
      "source": [
        "Using the approved dataset you proposed for project 2 part 1 last week, you will clean and explore the data set.\n",
        "\n",
        "To meet the requirements for this week you must have:\n",
        "\n",
        "- Deleted unnecessary columns.\n",
        "- Deleted duplicate rows.\n",
        "- Identified and addressed missing values.\n",
        "- Identified and corrected inconsistencies in data for categorical values (i.e. Cat, cat, cats).\n",
        "- Produced univariate visuals for the target and all features.\n",
        "- Identified outliers.\n",
        "- Clearly commented all of your cleaning steps and described any decisions you made.\n",
        "- Commit your file to your Github repository"
      ],
      "metadata": {
        "id": "sjM6aCIryk7S"
      }
    },
    {
      "cell_type": "code",
      "source": [
        "df.info()"
      ],
      "metadata": {
        "colab": {
          "base_uri": "https://localhost:8080/"
        },
        "id": "sucAEOjnKzJM",
        "outputId": "cc01e879-f7c7-4530-fc51-83045fb5f9f9"
      },
      "execution_count": 7,
      "outputs": [
        {
          "output_type": "stream",
          "name": "stdout",
          "text": [
            "<class 'pandas.core.frame.DataFrame'>\n",
            "RangeIndex: 26651 entries, 0 to 26650\n",
            "Data columns (total 21 columns):\n",
            " #   Column            Non-Null Count  Dtype  \n",
            "---  ------            --------------  -----  \n",
            " 0   GAME_DATE_EST     26651 non-null  object \n",
            " 1   GAME_ID           26651 non-null  int64  \n",
            " 2   GAME_STATUS_TEXT  26651 non-null  object \n",
            " 3   HOME_TEAM_ID      26651 non-null  int64  \n",
            " 4   VISITOR_TEAM_ID   26651 non-null  int64  \n",
            " 5   SEASON            26651 non-null  int64  \n",
            " 6   TEAM_ID_home      26651 non-null  int64  \n",
            " 7   PTS_home          26552 non-null  float64\n",
            " 8   FG_PCT_home       26552 non-null  float64\n",
            " 9   FT_PCT_home       26552 non-null  float64\n",
            " 10  FG3_PCT_home      26552 non-null  float64\n",
            " 11  AST_home          26552 non-null  float64\n",
            " 12  REB_home          26552 non-null  float64\n",
            " 13  TEAM_ID_away      26651 non-null  int64  \n",
            " 14  PTS_away          26552 non-null  float64\n",
            " 15  FG_PCT_away       26552 non-null  float64\n",
            " 16  FT_PCT_away       26552 non-null  float64\n",
            " 17  FG3_PCT_away      26552 non-null  float64\n",
            " 18  AST_away          26552 non-null  float64\n",
            " 19  REB_away          26552 non-null  float64\n",
            " 20  HOME_TEAM_WINS    26651 non-null  int64  \n",
            "dtypes: float64(12), int64(7), object(2)\n",
            "memory usage: 4.3+ MB\n"
          ]
        }
      ]
    },
    {
      "cell_type": "markdown",
      "source": [
        "## Uncecessary Columns"
      ],
      "metadata": {
        "id": "QQYIf9dSNNd5"
      }
    },
    {
      "cell_type": "markdown",
      "source": [
        "I will drop the GAME_DATE_EST, GAME_ID, GAME_STATUS_TEXT, HOME_TEAM_ID, VISITOR_TEAM_ID, TEAM_ID_home and TEAM_ID_away columns. They do not have any bearing on the target value."
      ],
      "metadata": {
        "id": "5fGOWVRmLNKg"
      }
    },
    {
      "cell_type": "code",
      "source": [
        "drop_these = ['GAME_DATE_EST', 'GAME_ID', 'GAME_STATUS_TEXT', 'HOME_TEAM_ID', \n",
        "              'VISITOR_TEAM_ID', 'TEAM_ID_home', 'TEAM_ID_away']\n",
        "\n",
        "df.drop(columns = drop_these, inplace = True)\n",
        "df.info()"
      ],
      "metadata": {
        "colab": {
          "base_uri": "https://localhost:8080/"
        },
        "id": "KNIDA6a7Njv_",
        "outputId": "1f35abd4-5899-4fe0-e23d-c5491165b674"
      },
      "execution_count": 8,
      "outputs": [
        {
          "output_type": "stream",
          "name": "stdout",
          "text": [
            "<class 'pandas.core.frame.DataFrame'>\n",
            "RangeIndex: 26651 entries, 0 to 26650\n",
            "Data columns (total 14 columns):\n",
            " #   Column          Non-Null Count  Dtype  \n",
            "---  ------          --------------  -----  \n",
            " 0   SEASON          26651 non-null  int64  \n",
            " 1   PTS_home        26552 non-null  float64\n",
            " 2   FG_PCT_home     26552 non-null  float64\n",
            " 3   FT_PCT_home     26552 non-null  float64\n",
            " 4   FG3_PCT_home    26552 non-null  float64\n",
            " 5   AST_home        26552 non-null  float64\n",
            " 6   REB_home        26552 non-null  float64\n",
            " 7   PTS_away        26552 non-null  float64\n",
            " 8   FG_PCT_away     26552 non-null  float64\n",
            " 9   FT_PCT_away     26552 non-null  float64\n",
            " 10  FG3_PCT_away    26552 non-null  float64\n",
            " 11  AST_away        26552 non-null  float64\n",
            " 12  REB_away        26552 non-null  float64\n",
            " 13  HOME_TEAM_WINS  26651 non-null  int64  \n",
            "dtypes: float64(12), int64(2)\n",
            "memory usage: 2.8 MB\n"
          ]
        }
      ]
    },
    {
      "cell_type": "markdown",
      "source": [
        "## Duplicate Rows"
      ],
      "metadata": {
        "id": "2z4qyW2QOf5I"
      }
    },
    {
      "cell_type": "code",
      "source": [
        "duplicates = df.duplicated().sum()\n",
        "print(f'There are {duplicates} duplicate rows.')"
      ],
      "metadata": {
        "colab": {
          "base_uri": "https://localhost:8080/"
        },
        "id": "6XvQou_wzerh",
        "outputId": "fb26ad40-c7eb-4aa8-9add-46fe313fac99"
      },
      "execution_count": 9,
      "outputs": [
        {
          "output_type": "stream",
          "name": "stdout",
          "text": [
            "There are 98 duplicate rows.\n"
          ]
        }
      ]
    },
    {
      "cell_type": "markdown",
      "source": [
        "There are no duplicate rows so I do not need to delete them. "
      ],
      "metadata": {
        "id": "zWJfXX7HOn4d"
      }
    },
    {
      "cell_type": "markdown",
      "source": [
        "## Missing Values"
      ],
      "metadata": {
        "id": "EtHF28UUOvOF"
      }
    },
    {
      "cell_type": "code",
      "source": [
        "df.isna().sum()"
      ],
      "metadata": {
        "colab": {
          "base_uri": "https://localhost:8080/"
        },
        "id": "f3tmtYw9NHS1",
        "outputId": "552f3353-8a9c-4e4d-9ed1-3cf8ffb5e60e"
      },
      "execution_count": 10,
      "outputs": [
        {
          "output_type": "execute_result",
          "data": {
            "text/plain": [
              "SEASON             0\n",
              "PTS_home          99\n",
              "FG_PCT_home       99\n",
              "FT_PCT_home       99\n",
              "FG3_PCT_home      99\n",
              "AST_home          99\n",
              "REB_home          99\n",
              "PTS_away          99\n",
              "FG_PCT_away       99\n",
              "FT_PCT_away       99\n",
              "FG3_PCT_away      99\n",
              "AST_away          99\n",
              "REB_away          99\n",
              "HOME_TEAM_WINS     0\n",
              "dtype: int64"
            ]
          },
          "metadata": {},
          "execution_count": 10
        }
      ]
    },
    {
      "cell_type": "markdown",
      "source": [
        "This data set is missing 99 values in a lot of the columns. I will impute the average of the coulmn to address that any missing numerical values. The average will skew the data a bit more than the median, but I think this will be a better value to use."
      ],
      "metadata": {
        "id": "R9BkFZtfPJ3B"
      }
    },
    {
      "cell_type": "markdown",
      "source": [
        "## Inconsistent Values"
      ],
      "metadata": {
        "id": "KjHGa2UpPjLY"
      }
    },
    {
      "cell_type": "markdown",
      "source": [
        "After removing unnecessary columns, all of my data is numerical.  This means I will not have any inconsistent categories in my data set. "
      ],
      "metadata": {
        "id": "HVAn0lcKP0uj"
      }
    },
    {
      "cell_type": "markdown",
      "source": [
        "## Univariate Visuals"
      ],
      "metadata": {
        "id": "qjdGXDnRO4JB"
      }
    },
    {
      "cell_type": "code",
      "source": [
        "fig, ax = plt.subplots(figsize = (8, 6))\n",
        "ax = sns.histplot(data = df, x = 'SEASON', bins = 22, kde = True)"
      ],
      "metadata": {
        "colab": {
          "base_uri": "https://localhost:8080/",
          "height": 542
        },
        "id": "pBNtEHOWRA0k",
        "outputId": "d852f106-9cbd-492b-d622-d9cc3e69b085"
      },
      "execution_count": 11,
      "outputs": [
        {
          "output_type": "display_data",
          "data": {
            "text/plain": [
              "<Figure size 800x600 with 1 Axes>"
            ],
            "image/png": "[encoded data removed]"
          },
          "metadata": {}
        }
      ]
    },
    {
      "cell_type": "markdown",
      "source": [
        "This histogram shows that the same number of games are usually played for the season. Usually around 1400. They playoff can change the values. The lowest number of games "
      ],
      "metadata": {
        "id": "PwMOrdrgTFy4"
      }
    },
    {
      "cell_type": "code",
      "source": [
        "fig, ax = plt.subplots(figsize = (8, 6))\n",
        "ax = sns.histplot(data = df, y = 'PTS_home', bins = 22, kde = True)"
      ],
      "metadata": {
        "colab": {
          "base_uri": "https://localhost:8080/",
          "height": 542
        },
        "id": "iLBK6ut28E38",
        "outputId": "eaa8028b-b75d-4e31-cc15-b17dd799482e"
      },
      "execution_count": 12,
      "outputs": [
        {
          "output_type": "display_data",
          "data": {
            "text/plain": [
              "<Figure size 800x600 with 1 Axes>"
            ],
            "image/png": "[encoded data removed]"
          },
          "metadata": {}
        }
      ]
    },
    {
      "cell_type": "markdown",
      "source": [
        "This violin plot shows that most teams score a little over 100 points a game, but the scores can range from around 60 to 150"
      ],
      "metadata": {
        "id": "hwl3mcyVVHSc"
      }
    },
    {
      "cell_type": "code",
      "source": [
        "fig, ax = plt.subplots(figsize = (8, 6))\n",
        "ax = sns.boxplot(data = df, x = 'FG_PCT_home');"
      ],
      "metadata": {
        "colab": {
          "base_uri": "https://localhost:8080/",
          "height": 542
        },
        "id": "SR_SUbxMU4Zr",
        "outputId": "3cc7d35a-0d43-43ce-ecd8-4231b067a5d5"
      },
      "execution_count": 13,
      "outputs": [
        {
          "output_type": "display_data",
          "data": {
            "text/plain": [
              "<Figure size 800x600 with 1 Axes>"
            ],
            "image/png": "[encoded data removed]"
          },
          "metadata": {}
        }
      ]
    },
    {
      "cell_type": "markdown",
      "source": [
        "This box plot shows that the majority of teams shoot between 42% ad 50% most nights. Some teams can have some really hot days shooting around 68%. Conversly there are some teams that have ice cold nights shooting less that 25%"
      ],
      "metadata": {
        "id": "jRyPxtA3XCDZ"
      }
    },
    {
      "cell_type": "code",
      "source": [
        "fig, ax = plt.subplots(figsize = (8, 6))\n",
        "sns.boxplot(data = df, y = 'FT_PCT_home')"
      ],
      "metadata": {
        "colab": {
          "base_uri": "https://localhost:8080/",
          "height": 521
        },
        "id": "aBhQ2nLQVsbi",
        "outputId": "6e10334b-4f4d-4f26-e5aa-a98a3269c6af"
      },
      "execution_count": 14,
      "outputs": [
        {
          "output_type": "execute_result",
          "data": {
            "text/plain": [
              "<Axes: ylabel='FT_PCT_home'>"
            ]
          },
          "metadata": {},
          "execution_count": 14
        },
        {
          "output_type": "display_data",
          "data": {
            "text/plain": [
              "<Figure size 800x600 with 1 Axes>"
            ],
            "image/png": "[encoded data removed]"
          },
          "metadata": {}
        }
      ]
    },
    {
      "cell_type": "code",
      "source": [
        "fig, ax = plt.subplots(figsize = (8, 6))\n",
        "ax = sns.boxenplot(data = df, x = 'FG3_PCT_home')"
      ],
      "metadata": {
        "colab": {
          "base_uri": "https://localhost:8080/",
          "height": 542
        },
        "id": "exouXr2SXCon",
        "outputId": "5d7142eb-16c2-4bbc-9d02-0bddd5173a16"
      },
      "execution_count": 15,
      "outputs": [
        {
          "output_type": "display_data",
          "data": {
            "text/plain": [
              "<Figure size 800x600 with 1 Axes>"
            ],
            "image/png": "[encoded data removed]"
          },
          "metadata": {}
        }
      ]
    },
    {
      "cell_type": "code",
      "source": [
        "fig, ax = plt.subplots(figsize = (8, 6))\n",
        "ax = sns.boxenplot(data = df, y = 'AST_home')"
      ],
      "metadata": {
        "colab": {
          "base_uri": "https://localhost:8080/",
          "height": 503
        },
        "id": "01MHHXmg-Ai_",
        "outputId": "3b4dd8b5-ba02-4abb-b0af-7d17ee6600c0"
      },
      "execution_count": 16,
      "outputs": [
        {
          "output_type": "display_data",
          "data": {
            "text/plain": [
              "<Figure size 800x600 with 1 Axes>"
            ],
            "image/png": "[encoded data removed]"
          },
          "metadata": {}
        }
      ]
    },
    {
      "cell_type": "code",
      "source": [
        "ax = sns.displot(data = df, x = 'REB_home')"
      ],
      "metadata": {
        "colab": {
          "base_uri": "https://localhost:8080/",
          "height": 506
        },
        "id": "hDeVmwhBYX4_",
        "outputId": "bf25e0a9-b1ca-4704-cbcd-9e4aa0c70add"
      },
      "execution_count": 17,
      "outputs": [
        {
          "output_type": "display_data",
          "data": {
            "text/plain": [
              "<Figure size 500x500 with 1 Axes>"
            ],
            "image/png": "[encoded data removed]"
          },
          "metadata": {}
        }
      ]
    },
    {
      "cell_type": "code",
      "source": [
        "ax = sns.displot(data = df, y = 'PTS_away')"
      ],
      "metadata": {
        "colab": {
          "base_uri": "https://localhost:8080/",
          "height": 506
        },
        "id": "7rWp47MQYxCA",
        "outputId": "618370bf-fb48-49f3-ad05-03d6599511cb"
      },
      "execution_count": 18,
      "outputs": [
        {
          "output_type": "display_data",
          "data": {
            "text/plain": [
              "<Figure size 500x500 with 1 Axes>"
            ],
            "image/png": "[encoded data removed]"
          },
          "metadata": {}
        }
      ]
    },
    {
      "cell_type": "code",
      "source": [
        "fig, ax = plt.subplots(figsize = (8, 6))\n",
        "ax = sns.violinplot(data = df, x = 'FG_PCT_away')"
      ],
      "metadata": {
        "colab": {
          "base_uri": "https://localhost:8080/",
          "height": 542
        },
        "id": "B1wgg2REAbIw",
        "outputId": "94d5e961-d7fe-4347-f50c-fd05a3cb1b16"
      },
      "execution_count": 19,
      "outputs": [
        {
          "output_type": "display_data",
          "data": {
            "text/plain": [
              "<Figure size 800x600 with 1 Axes>"
            ],
            "image/png": "[encoded data removed]"
          },
          "metadata": {}
        }
      ]
    },
    {
      "cell_type": "code",
      "source": [
        "fig, ax = plt.subplots(figsize = (8, 6))\n",
        "ax = sns.violinplot(data = df, y = 'FT_PCT_away')"
      ],
      "metadata": {
        "colab": {
          "base_uri": "https://localhost:8080/",
          "height": 503
        },
        "id": "kaATJMtGAo71",
        "outputId": "a21b96a9-ff8b-41f0-d140-fff3db1ad9a6"
      },
      "execution_count": 20,
      "outputs": [
        {
          "output_type": "display_data",
          "data": {
            "text/plain": [
              "<Figure size 800x600 with 1 Axes>"
            ],
            "image/png": "[encoded data removed]"
          },
          "metadata": {}
        }
      ]
    },
    {
      "cell_type": "code",
      "source": [
        "fig, ax = plt.subplots(figsize = (8, 6))\n",
        "ax = sns.ecdfplot(data = df, x = 'FG3_PCT_away')"
      ],
      "metadata": {
        "colab": {
          "base_uri": "https://localhost:8080/",
          "height": 547
        },
        "id": "AAlL-1xtGBcy",
        "outputId": "7317ef83-278a-4611-949c-680434844664"
      },
      "execution_count": 21,
      "outputs": [
        {
          "output_type": "display_data",
          "data": {
            "text/plain": [
              "<Figure size 800x600 with 1 Axes>"
            ],
            "image/png": "[encoded data removed]"
          },
          "metadata": {}
        }
      ]
    },
    {
      "cell_type": "code",
      "source": [
        "fig, ax = plt.subplots(figsize = (8, 6))\n",
        "ax = sns.ecdfplot(data = df, y = 'AST_away')"
      ],
      "metadata": {
        "colab": {
          "base_uri": "https://localhost:8080/",
          "height": 542
        },
        "id": "RgD12yIHJ1JX",
        "outputId": "89a9c2da-7803-4227-a59d-85e30a875570"
      },
      "execution_count": 22,
      "outputs": [
        {
          "output_type": "display_data",
          "data": {
            "text/plain": [
              "<Figure size 800x600 with 1 Axes>"
            ],
            "image/png": "[encoded data removed]"
          },
          "metadata": {}
        }
      ]
    },
    {
      "cell_type": "code",
      "source": [
        "fig, ax = plt.subplots(figsize = (8, 6))\n",
        "ax = sns.stripplot(data = df, y = 'REB_away')"
      ],
      "metadata": {
        "colab": {
          "base_uri": "https://localhost:8080/",
          "height": 503
        },
        "id": "o0hlOfA5NI7P",
        "outputId": "43cf1202-ae51-401e-acda-49d47cc1e56e"
      },
      "execution_count": 23,
      "outputs": [
        {
          "output_type": "display_data",
          "data": {
            "text/plain": [
              "<Figure size 800x600 with 1 Axes>"
            ],
            "image/png": "[encoded data removed]"
          },
          "metadata": {}
        }
      ]
    },
    {
      "cell_type": "code",
      "source": [
        "fig, ax = plt.subplots(figsize = (8, 6))\n",
        "ax = sns.countplot(data = df, x = 'HOME_TEAM_WINS')"
      ],
      "metadata": {
        "colab": {
          "base_uri": "https://localhost:8080/",
          "height": 542
        },
        "id": "dpyr8tJZPw1H",
        "outputId": "db7eb2e0-9bce-470b-f2d5-d2766ed7c2e3"
      },
      "execution_count": 24,
      "outputs": [
        {
          "output_type": "display_data",
          "data": {
            "text/plain": [
              "<Figure size 800x600 with 1 Axes>"
            ],
            "image/png": "[encoded data removed]"
          },
          "metadata": {}
        }
      ]
    },
    {
      "cell_type": "markdown",
      "source": [
        "## Outliers\n"
      ],
      "metadata": {
        "id": "U6Y9fHYKQXDn"
      }
    },
    {
      "cell_type": "code",
      "source": [
        "df.describe()"
      ],
      "metadata": {
        "colab": {
          "base_uri": "https://localhost:8080/",
          "height": 364
        },
        "id": "GhDwAY4_WszL",
        "outputId": "114d5c2e-b041-4181-e736-0584af8ad354"
      },
      "execution_count": 25,
      "outputs": [
        {
          "output_type": "execute_result",
          "data": {
            "text/plain": [
              "             SEASON      PTS_home   FG_PCT_home   FT_PCT_home  FG3_PCT_home  \\\n",
              "count  26651.000000  26552.000000  26552.000000  26552.000000  26552.000000   \n",
              "mean    2012.113879    103.455898      0.460735      0.760377      0.356023   \n",
              "std        5.587031     13.283370      0.056676      0.100677      0.111164   \n",
              "min     2003.000000     36.000000      0.250000      0.143000      0.000000   \n",
              "25%     2007.000000     94.000000      0.422000      0.697000      0.286000   \n",
              "50%     2012.000000    103.000000      0.460000      0.765000      0.357000   \n",
              "75%     2017.000000    112.000000      0.500000      0.833000      0.429000   \n",
              "max     2022.000000    168.000000      0.684000      1.000000      1.000000   \n",
              "\n",
              "           AST_home      REB_home      PTS_away   FG_PCT_away   FT_PCT_away  \\\n",
              "count  26552.000000  26552.000000  26552.000000  26552.000000  26552.000000   \n",
              "mean      22.823441     43.374284    100.639876      0.449732      0.758816   \n",
              "std        5.193308      6.625769     13.435868      0.055551      0.103429   \n",
              "min        6.000000     15.000000     33.000000      0.244000      0.143000   \n",
              "25%       19.000000     39.000000     91.000000      0.412000      0.692000   \n",
              "50%       23.000000     43.000000    100.000000      0.449000      0.765000   \n",
              "75%       26.000000     48.000000    110.000000      0.487000      0.833000   \n",
              "max       50.000000     72.000000    168.000000      0.687000      1.000000   \n",
              "\n",
              "       FG3_PCT_away      AST_away      REB_away  HOME_TEAM_WINS  \n",
              "count  26552.000000  26552.000000  26552.000000    26651.000000  \n",
              "mean       0.349489     21.496271     42.113249        0.587032  \n",
              "std        0.109441      5.160596      6.533039        0.492376  \n",
              "min        0.000000      4.000000     19.000000        0.000000  \n",
              "25%        0.278000     18.000000     38.000000        0.000000  \n",
              "50%        0.350000     21.000000     42.000000        1.000000  \n",
              "75%        0.419000     25.000000     46.000000        1.000000  \n",
              "max        1.000000     46.000000     81.000000        1.000000  "
            ],
            "text/html": [
              "\n",
              "  <div id=\"df-1d1b349a-2bc1-4ca4-a7db-e3387f596157\">\n",
              "    <div class=\"colab-df-container\">\n",
              "      <div>\n",
              "<style scoped>\n",
              "    .dataframe tbody tr th:only-of-type {\n",
              "        vertical-align: middle;\n",
              "    }\n",
              "\n",
              "    .dataframe tbody tr th {\n",
              "        vertical-align: top;\n",
              "    }\n",
              "\n",
              "    .dataframe thead th {\n",
              "        text-align: right;\n",
              "    }\n",
              "</style>\n",
              "<table border=\"1\" class=\"dataframe\">\n",
              "  <thead>\n",
              "    <tr style=\"text-align: right;\">\n",
              "      <th></th>\n",
              "      <th>SEASON</th>\n",
              "      <th>PTS_home</th>\n",
              "      <th>FG_PCT_home</th>\n",
              "      <th>FT_PCT_home</th>\n",
              "      <th>FG3_PCT_home</th>\n",
              "      <th>AST_home</th>\n",
              "      <th>REB_home</th>\n",
              "      <th>PTS_away</th>\n",
              "      <th>FG_PCT_away</th>\n",
              "      <th>FT_PCT_away</th>\n",
              "      <th>FG3_PCT_away</th>\n",
              "      <th>AST_away</th>\n",
              "      <th>REB_away</th>\n",
              "      <th>HOME_TEAM_WINS</th>\n",
              "    </tr>\n",
              "  </thead>\n",
              "  <tbody>\n",
              "    <tr>\n",
              "      <th>count</th>\n",
              "      <td>26651.000000</td>\n",
              "      <td>26552.000000</td>\n",
              "      <td>26552.000000</td>\n",
              "      <td>26552.000000</td>\n",
              "      <td>26552.000000</td>\n",
              "      <td>26552.000000</td>\n",
              "      <td>26552.000000</td>\n",
              "      <td>26552.000000</td>\n",
              "      <td>26552.000000</td>\n",
              "      <td>26552.000000</td>\n",
              "      <td>26552.000000</td>\n",
              "      <td>26552.000000</td>\n",
              "      <td>26552.000000</td>\n",
              "      <td>26651.000000</td>\n",
              "    </tr>\n",
              "    <tr>\n",
              "      <th>mean</th>\n",
              "      <td>2012.113879</td>\n",
              "      <td>103.455898</td>\n",
              "      <td>0.460735</td>\n",
              "      <td>0.760377</td>\n",
              "      <td>0.356023</td>\n",
              "      <td>22.823441</td>\n",
              "      <td>43.374284</td>\n",
              "      <td>100.639876</td>\n",
              "      <td>0.449732</td>\n",
              "      <td>0.758816</td>\n",
              "      <td>0.349489</td>\n",
              "      <td>21.496271</td>\n",
              "      <td>42.113249</td>\n",
              "      <td>0.587032</td>\n",
              "    </tr>\n",
              "    <tr>\n",
              "      <th>std</th>\n",
              "      <td>5.587031</td>\n",
              "      <td>13.283370</td>\n",
              "      <td>0.056676</td>\n",
              "      <td>0.100677</td>\n",
              "      <td>0.111164</td>\n",
              "      <td>5.193308</td>\n",
              "      <td>6.625769</td>\n",
              "      <td>13.435868</td>\n",
              "      <td>0.055551</td>\n",
              "      <td>0.103429</td>\n",
              "      <td>0.109441</td>\n",
              "      <td>5.160596</td>\n",
              "      <td>6.533039</td>\n",
              "      <td>0.492376</td>\n",
              "    </tr>\n",
              "    <tr>\n",
              "      <th>min</th>\n",
              "      <td>2003.000000</td>\n",
              "      <td>36.000000</td>\n",
              "      <td>0.250000</td>\n",
              "      <td>0.143000</td>\n",
              "      <td>0.000000</td>\n",
              "      <td>6.000000</td>\n",
              "      <td>15.000000</td>\n",
              "      <td>33.000000</td>\n",
              "      <td>0.244000</td>\n",
              "      <td>0.143000</td>\n",
              "      <td>0.000000</td>\n",
              "      <td>4.000000</td>\n",
              "      <td>19.000000</td>\n",
              "      <td>0.000000</td>\n",
              "    </tr>\n",
              "    <tr>\n",
              "      <th>25%</th>\n",
              "      <td>2007.000000</td>\n",
              "      <td>94.000000</td>\n",
              "      <td>0.422000</td>\n",
              "      <td>0.697000</td>\n",
              "      <td>0.286000</td>\n",
              "      <td>19.000000</td>\n",
              "      <td>39.000000</td>\n",
              "      <td>91.000000</td>\n",
              "      <td>0.412000</td>\n",
              "      <td>0.692000</td>\n",
              "      <td>0.278000</td>\n",
              "      <td>18.000000</td>\n",
              "      <td>38.000000</td>\n",
              "      <td>0.000000</td>\n",
              "    </tr>\n",
              "    <tr>\n",
              "      <th>50%</th>\n",
              "      <td>2012.000000</td>\n",
              "      <td>103.000000</td>\n",
              "      <td>0.460000</td>\n",
              "      <td>0.765000</td>\n",
              "      <td>0.357000</td>\n",
              "      <td>23.000000</td>\n",
              "      <td>43.000000</td>\n",
              "      <td>100.000000</td>\n",
              "      <td>0.449000</td>\n",
              "      <td>0.765000</td>\n",
              "      <td>0.350000</td>\n",
              "      <td>21.000000</td>\n",
              "      <td>42.000000</td>\n",
              "      <td>1.000000</td>\n",
              "    </tr>\n",
              "    <tr>\n",
              "      <th>75%</th>\n",
              "      <td>2017.000000</td>\n",
              "      <td>112.000000</td>\n",
              "      <td>0.500000</td>\n",
              "      <td>0.833000</td>\n",
              "      <td>0.429000</td>\n",
              "      <td>26.000000</td>\n",
              "      <td>48.000000</td>\n",
              "      <td>110.000000</td>\n",
              "      <td>0.487000</td>\n",
              "      <td>0.833000</td>\n",
              "      <td>0.419000</td>\n",
              "      <td>25.000000</td>\n",
              "      <td>46.000000</td>\n",
              "      <td>1.000000</td>\n",
              "    </tr>\n",
              "    <tr>\n",
              "      <th>max</th>\n",
              "      <td>2022.000000</td>\n",
              "      <td>168.000000</td>\n",
              "      <td>0.684000</td>\n",
              "      <td>1.000000</td>\n",
              "      <td>1.000000</td>\n",
              "      <td>50.000000</td>\n",
              "      <td>72.000000</td>\n",
              "      <td>168.000000</td>\n",
              "      <td>0.687000</td>\n",
              "      <td>1.000000</td>\n",
              "      <td>1.000000</td>\n",
              "      <td>46.000000</td>\n",
              "      <td>81.000000</td>\n",
              "      <td>1.000000</td>\n",
              "    </tr>\n",
              "  </tbody>\n",
              "</table>\n",
              "</div>\n",
              "      <button class=\"colab-df-convert\" onclick=\"convertToInteractive('df-1d1b349a-2bc1-4ca4-a7db-e3387f596157')\"\n",
              "              title=\"Convert this dataframe to an interactive table.\"\n",
              "              style=\"display:none;\">\n",
              "        \n",
              "  <svg xmlns=\"http://www.w3.org/2000/svg\" height=\"24px\"viewBox=\"0 0 24 24\"\n",
              "       width=\"24px\">\n",
              "    <path d=\"M0 0h24v24H0V0z\" fill=\"none\"/>\n",
              "    <path d=\"M18.56 5.44l.94 2.06.94-2.06 2.06-.94-2.06-.94-.94-2.06-.94 2.06-2.06.94zm-11 1L8.5 8.5l.94-2.06 2.06-.94-2.06-.94L8.5 2.5l-.94 2.06-2.06.94zm10 10l.94 2.06.94-2.06 2.06-.94-2.06-.94-.94-2.06-.94 2.06-2.06.94z\"/><path d=\"M17.41 7.96l-1.37-1.37c-.4-.4-.92-.59-1.43-.59-.52 0-1.04.2-1.43.59L10.3 9.45l-7.72 7.72c-.78.78-.78 2.05 0 2.83L4 21.41c.39.39.9.59 1.41.59.51 0 1.02-.2 1.41-.59l7.78-7.78 2.81-2.81c.8-.78.8-2.07 0-2.86zM5.41 20L4 18.59l7.72-7.72 1.47 1.35L5.41 20z\"/>\n",
              "  </svg>\n",
              "      </button>\n",
              "      \n",
              "  <style>\n",
              "    .colab-df-container {\n",
              "      display:flex;\n",
              "      flex-wrap:wrap;\n",
              "      gap: 12px;\n",
              "    }\n",
              "\n",
              "    .colab-df-convert {\n",
              "      background-color: #E8F0FE;\n",
              "      border: none;\n",
              "      border-radius: 50%;\n",
              "      cursor: pointer;\n",
              "      display: none;\n",
              "      fill: #1967D2;\n",
              "      height: 32px;\n",
              "      padding: 0 0 0 0;\n",
              "      width: 32px;\n",
              "    }\n",
              "\n",
              "    .colab-df-convert:hover {\n",
              "      background-color: #E2EBFA;\n",
              "      box-shadow: 0px 1px 2px rgba(60, 64, 67, 0.3), 0px 1px 3px 1px rgba(60, 64, 67, 0.15);\n",
              "      fill: #174EA6;\n",
              "    }\n",
              "\n",
              "    [theme=dark] .colab-df-convert {\n",
              "      background-color: #3B4455;\n",
              "      fill: #D2E3FC;\n",
              "    }\n",
              "\n",
              "    [theme=dark] .colab-df-convert:hover {\n",
              "      background-color: #434B5C;\n",
              "      box-shadow: 0px 1px 3px 1px rgba(0, 0, 0, 0.15);\n",
              "      filter: drop-shadow(0px 1px 2px rgba(0, 0, 0, 0.3));\n",
              "      fill: #FFFFFF;\n",
              "    }\n",
              "  </style>\n",
              "\n",
              "      <script>\n",
              "        const buttonEl =\n",
              "          document.querySelector('#df-1d1b349a-2bc1-4ca4-a7db-e3387f596157 button.colab-df-convert');\n",
              "        buttonEl.style.display =\n",
              "          google.colab.kernel.accessAllowed ? 'block' : 'none';\n",
              "\n",
              "        async function convertToInteractive(key) {\n",
              "          const element = document.querySelector('#df-1d1b349a-2bc1-4ca4-a7db-e3387f596157');\n",
              "          const dataTable =\n",
              "            await google.colab.kernel.invokeFunction('convertToInteractive',\n",
              "                                                     [key], {});\n",
              "          if (!dataTable) return;\n",
              "\n",
              "          const docLinkHtml = 'Like what you see? Visit the ' +\n",
              "            '<a target=\"_blank\" href=https://colab.research.google.com/notebooks/data_table.ipynb>data table notebook</a>'\n",
              "            + ' to learn more about interactive tables.';\n",
              "          element.innerHTML = '';\n",
              "          dataTable['output_type'] = 'display_data';\n",
              "          await google.colab.output.renderOutput(dataTable, element);\n",
              "          const docLink = document.createElement('div');\n",
              "          docLink.innerHTML = docLinkHtml;\n",
              "          element.appendChild(docLink);\n",
              "        }\n",
              "      </script>\n",
              "    </div>\n",
              "  </div>\n",
              "  "
            ]
          },
          "metadata": {},
          "execution_count": 25
        }
      ]
    },
    {
      "cell_type": "markdown",
      "source": [
        "There are no outliers. All of the values fall within ranges that make sense. "
      ],
      "metadata": {
        "id": "c-Jxx1YmM46R"
      }
    }
  ]
}